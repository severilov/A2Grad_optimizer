{
 "cells": [
  {
   "cell_type": "markdown",
   "metadata": {},
   "source": [
    "# 1 \n",
    "#### Отсюда взял https://github.com/rahulkidambi/AccSGD\n",
    "    r\"\"\"Implements the algorithm proposed in https://arxiv.org/pdf/1704.08227.pdf, which is a provably accelerated method \n",
    "    for stochastic optimization. This has been employed in https://openreview.net/forum?id=rJTutzbA- for training several \n",
    "    deep learning models of practical interest. This code has been implemented by building on the construction of the SGD \n",
    "    optimization module found in pytorch codebase.\n",
    "    Args:\n",
    "        params (iterable): iterable of parameters to optimize or dicts defining\n",
    "            parameter groups\n",
    "        lr (float): learning rate (required)\n",
    "        kappa (float, optional): ratio of long to short step (default: 1000)\n",
    "        xi (float, optional): statistical advantage parameter (default: 10)\n",
    "        smallConst (float, optional): any value <=1 (default: 0.7)\n",
    "    Example:\n",
    "        >>> from AccSGD import *\n",
    "        >>> optimizer = AccSGD(model.parameters(), lr=0.1, kappa = 1000.0, xi = 10.0)\n",
    "        >>> optimizer.zero_grad()\n",
    "        >>> loss_fn(model(input), target).backward()\n",
    "        >>> optimizer.step()\n",
    "    \"\"\""
   ]
  },
  {
   "cell_type": "code",
   "execution_count": 1,
   "metadata": {},
   "outputs": [],
   "source": [
    "from torch.optim.optimizer import Optimizer, required\n",
    "import copy\n",
    "\n",
    "class AccSGD(Optimizer):\n",
    "\n",
    "    def __init__(self, params, lr=required, kappa = 1000.0, xi = 10.0, smallConst = 0.7, weight_decay=0):\n",
    "        defaults = dict(lr=lr, kappa=kappa, xi=xi, smallConst=smallConst,\n",
    "                        weight_decay=weight_decay)\n",
    "        super(AccSGD, self).__init__(params, defaults)\n",
    "\n",
    "    def __setstate__(self, state):\n",
    "        super(AccSGD, self).__setstate__(state)\n",
    "\n",
    "    def step(self, closure=None):\n",
    "        \"\"\" Performs a single optimization step.\n",
    "        Arguments:\n",
    "            closure (callable, optional): A closure that reevaluates the model\n",
    "                and returns the loss.\n",
    "        \"\"\"\n",
    "        loss = None\n",
    "        if closure is not None:\n",
    "            loss = closure()\n",
    "\n",
    "        for group in self.param_groups:\n",
    "            weight_decay = group['weight_decay']\n",
    "            large_lr = (group['lr']*group['kappa'])/(group['smallConst'])\n",
    "            Alpha = 1.0 - ((group['smallConst']*group['smallConst']*group['xi'])/group['kappa'])\n",
    "            Beta = 1.0 - Alpha\n",
    "            zeta = group['smallConst']/(group['smallConst']+Beta)\n",
    "            for p in group['params']:\n",
    "                if p.grad is None:\n",
    "                    continue\n",
    "                d_p = p.grad.data\n",
    "                if weight_decay != 0:\n",
    "                    d_p.add_(weight_decay, p.data)\n",
    "                param_state = self.state[p]\n",
    "                if 'momentum_buffer' not in param_state:\n",
    "                    param_state['momentum_buffer'] = copy.deepcopy(p.data)\n",
    "                buf = param_state['momentum_buffer']\n",
    "                buf.mul_((1.0/Beta)-1.0)\n",
    "                buf.add_(-large_lr,d_p)\n",
    "                buf.add_(p.data)\n",
    "                buf.mul_(Beta)\n",
    "\n",
    "                p.data.add_(-group['lr'],d_p)\n",
    "                p.data.mul_(zeta)\n",
    "                p.data.add_(1.0-zeta,buf)\n",
    "\n",
    "        return loss"
   ]
  },
  {
   "cell_type": "markdown",
   "metadata": {},
   "source": [
    "# 2"
   ]
  },
  {
   "cell_type": "markdown",
   "metadata": {},
   "source": [
    "* Ощень полезна http://ruder.io/optimizing-gradient-descent/index.html#adagrad\n",
    "\n",
    "* И тут тоже намана так рассказано https://moodle2.cs.huji.ac.il/nu15/pluginfile.php/316969/mod_resource/content/1/adam_pres.pdf\n",
    "\n",
    "* Тащемта каефная реализация на торче от китайца того, что нам надо (почти, они там все мироточат на эту https://openreview.net/pdf?id=ryQu7f-RZ статью и поэтому только для нее делают реализации) https://github.com/wikaiqi/AMSGradpytorch/blob/master/AdamBeyond.ipynb\n",
    "\n",
    "* Вот тута челик почти все, что надо нам для адама и не адама реализовал, но только не на торче, а на Лазанье (итальянец наверное(нет(кто так называет фреймворки???))) https://fdlm.github.io/post/amsgrad/\n",
    "\n",
    "* Реализация адама без евы на theano (не знаю зачем, в торче делается в одну строчку) https://github.com/aimpast/amsgrad/blob/master/adam.py\n",
    "\n",
    "* Еще полезные очень похожие на наши эксперименты (опять на лазанье скока итальянцев развелось) https://github.com/fdlm/amsgrad_experiments\n",
    "\n"
   ]
  },
  {
   "cell_type": "markdown",
   "metadata": {},
   "source": [
    "# 3"
   ]
  },
  {
   "cell_type": "markdown",
   "metadata": {},
   "source": [
    "В нашей статье сравниваются результаты работы оптимизаторов Adam и AMSGrad с реализациями новых оптимизаторов из статьи: A2Grad-uni, A2Grad-inc, A2Grad-exp\n",
    "\n",
    "На чем тестят:\n",
    "* Logistic regression on MNIST\n",
    "* Two-layer neural network on MNIST (ReLu в конце, кросс-энтропия)\n",
    "* Deep neural networks on CIFAR10 (Cifarnet (сверточная сетка) and Vgg16(вроде можно скачать готовые веса))\n",
    "\n",
    "Парметры:\n",
    "* Adam и AMSGrad: $\\beta_1$ = 0.9, $\\beta_2$ из сетки {0.99, 0.999}; Learning rate из сетки {0.0001, 0.001, 0.01, 0.1}, momentum parameter из сетки {0.5, 0.9}\n",
    "\n",
    "Их результаты: короче, каефно реализовали, смарите пацаны A2Grad круче Адама и ~~Евы~~ AMSGrad"
   ]
  },
  {
   "cell_type": "code",
   "execution_count": null,
   "metadata": {},
   "outputs": [],
   "source": []
  }
 ],
 "metadata": {
  "kernelspec": {
   "display_name": "Python 3",
   "language": "python",
   "name": "python3"
  },
  "language_info": {
   "codemirror_mode": {
    "name": "ipython",
    "version": 3
   },
   "file_extension": ".py",
   "mimetype": "text/x-python",
   "name": "python",
   "nbconvert_exporter": "python",
   "pygments_lexer": "ipython3",
   "version": "3.6.8"
  }
 },
 "nbformat": 4,
 "nbformat_minor": 2
}
